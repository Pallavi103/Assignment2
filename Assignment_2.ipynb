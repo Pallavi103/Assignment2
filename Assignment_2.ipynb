{
 "cells": [
  {
   "cell_type": "code",
   "execution_count": null,
   "id": "b7250e83-27b5-432b-b87d-a8b6f9b061b8",
   "metadata": {},
   "outputs": [],
   "source": [
    "#Q1. How do you comment code in Python? What are the different types of comments?\n",
    "\n",
    "There are two types of comments in Python\n",
    "1.Single-line comments\n",
    "2.Multi-line comments\n",
    "\n",
    "1.Single-line comments:\n",
    "  Single-line comments begin with a hash(#) and continue until the end of the line. \n",
    "  These comments are used to provide brief explanations or clarify specific lines of code.  \n",
    "    EX-\n",
    "      \n",
    "      #This function takes two numbers, `a` and `b`,\n",
    "        def add_numbers(a, b):\n",
    "        \n",
    "      return a + b\n",
    "       \n",
    "2.Multi-line comments:\n",
    "      Multi-line comments are used for longer explanations or documentation of functions, classes, or modules.\n",
    "      They can span across multiple lines and are enclosed in triple quotes (either single or double). \n",
    "        EX-\n",
    "      \n",
    "      def add_numbers(a, b):\n",
    "    \"\"\"\n",
    "    This function takes two numbers, `a` and `b`,\n",
    "    and returns their sum.\n",
    "    \"\"\"\n",
    "    return a + b"
   ]
  },
  {
   "cell_type": "code",
   "execution_count": null,
   "id": "f0a51e03-380d-416f-b3c2-e13460833bc9",
   "metadata": {},
   "outputs": [],
   "source": [
    "#Q2. What are variables in Python? How do you declare and assign values to variables?\n",
    "\n",
    "variables are used to store data values. They act as containers that hold information, such as numbers, strings, lists, or more complex data types.\n",
    "Variables allow you to manipulate and access the data throughout your code.\n",
    "simply need to use the assignment operator ('=').\n",
    "\n",
    "var_name = value\n",
    "\n",
    "Rules:\n",
    "1.They can contain letters, numbers, and underscores.\n",
    "2.They cannot start with a number.\n",
    "3.They are case-sensitive, meaning 'Name' and 'name' are considered different variables.    \n",
    "\n",
    "Examples:\n",
    "# Declaring and assigning integer value\n",
    "age = 25\n",
    "\n",
    "# Declaring and assigning a string value\n",
    "name = \"John Doe\"\n",
    "\n",
    "# Declaring and assigning a floating-point value\n",
    "num = 3.14159\n",
    "\n",
    "# Declaring and assigning a boolean value\n",
    "is_student = True\n",
    "\n"
   ]
  },
  {
   "cell_type": "code",
   "execution_count": 1,
   "id": "92b8e3e8-dab9-4b2c-9693-44a9678ed7ec",
   "metadata": {},
   "outputs": [
    {
     "name": "stdout",
     "output_type": "stream",
     "text": [
      "<class 'int'>\n",
      "<class 'str'>\n",
      "<class 'int'>\n"
     ]
    }
   ],
   "source": [
    "# Q3. How do you convert one data type to another in Python?\n",
    "\n",
    "# we can convert one data type to another by using type conversion functions or constructors. \n",
    "# 1.int()\n",
    "\n",
    "number = 42\n",
    "number_str = \"42\"\n",
    "print(type(number))\n",
    "print(type(number_str))\n",
    "converted_number = int(number_str)\n",
    "print(type(converted_number))"
   ]
  },
  {
   "cell_type": "code",
   "execution_count": 3,
   "id": "0afcc1e1-f9f6-4cc9-96e6-f8588210c85e",
   "metadata": {},
   "outputs": [
    {
     "name": "stdout",
     "output_type": "stream",
     "text": [
      "<class 'int'>\n",
      "<class 'str'>\n"
     ]
    }
   ],
   "source": [
    "#2.str()\n",
    "\n",
    "age = 25\n",
    "print(type(age))\n",
    "age_str = str(age)\n",
    "print(type(age_str))"
   ]
  },
  {
   "cell_type": "code",
   "execution_count": null,
   "id": "feba43e4-e10d-45b8-822b-81e3f2c11475",
   "metadata": {},
   "outputs": [],
   "source": [
    "Q4. How do you write and execute a Python script from the command line?\n",
    "\n",
    "1.Launch Jupyter Notebook and create a new notebook or open an existing one.\n",
    "2.Click on the \"New\" button and select \"Text File\" to create a new text file.\n",
    "3.Rename the text file with a .py extension to indicate that it's a Python script. For example, you can name it script.py.\n",
    "4.Double-click on the newly created file to open it.\n",
    "5.Write your Python code into the file.\n",
    "6.To execute the script,\n",
    "Select the cell containing the code and press Shift+Enter to run the code in that cell.\n",
    "7.The output (if any) of the script will be displayed below the cell or in the output area."
   ]
  },
  {
   "cell_type": "code",
   "execution_count": 1,
   "id": "bd13fac2-0bc7-41ee-b9ca-8a8098db4703",
   "metadata": {},
   "outputs": [
    {
     "name": "stdout",
     "output_type": "stream",
     "text": [
      "[1, 2, 3, 4, 5]\n",
      "[2, 3]\n"
     ]
    }
   ],
   "source": [
    "#Q5. Given a list my_list = [1, 2, 3, 4, 5], write the code to slice the list and obtain the sub-list [2, 3].\n",
    "\n",
    "my_list =[1, 2, 3, 4, 5]\n",
    "print(my_list)\n",
    "sub_list=my_list[1:3]\n",
    "print(sub_list)"
   ]
  },
  {
   "cell_type": "code",
   "execution_count": null,
   "id": "7ae05aea-ab88-452a-98d8-f3ef4f683991",
   "metadata": {},
   "outputs": [],
   "source": [
    "Q6. What is a complex number in mathematics, and how is it represented in Python?\n",
    "\n",
    "complex number is a number that comprises a real part and an imaginary part. \n",
    "It is expressed in the form a + bi, where 'a' represents the real part, 'b' represents the imaginary part, and 'i' represents the imaginary unit. \n",
    "The real part and the imaginary part can be any real numbers.\n",
    "\n",
    "# Creating complex numbers\n",
    "z1 = 3 + 2j  # 3 is the real part, 2 is the imaginary part\n",
    "z2 = complex(1, -4)  # 1 is the real part, -4 is the imaginary part\n",
    "\n",
    "Python provides various built-in functions and mathematical operations to manipulate complex numbers. \n",
    "You can perform addition, subtraction, multiplication, division, and other mathematical operations with complex numbers."
   ]
  },
  {
   "cell_type": "code",
   "execution_count": 2,
   "id": "95ef6c9f-d8e1-4261-92d0-d21082dd31a8",
   "metadata": {},
   "outputs": [
    {
     "name": "stdout",
     "output_type": "stream",
     "text": [
      "25\n"
     ]
    }
   ],
   "source": [
    "# Q7. What is the correct way to declare a variable named 'age' and assign the value '25' to it?\n",
    "\n",
    "# we can declare a variable named age and assign the value 25 \n",
    "\n",
    "age=25\n",
    "print(age)"
   ]
  },
  {
   "cell_type": "code",
   "execution_count": null,
   "id": "fb163e77-4224-4aa6-981e-78a45598b239",
   "metadata": {},
   "outputs": [],
   "source": [
    "Q8. Declare a variable named price and assign the value 9.99 to it. What data type does this variable\n",
    "belong to?\n",
    "\n",
    "the variable price is assigned the value 9.99. In Python, the value 9.99 is a decimal number with a fractional part, \n",
    "and it belongs to the data type called \"float.\"\n",
    "\n",
    "Float is short for \"floating-point number\" and represents real numbers with a decimal point.\n",
    "It is used to store numbers that can have both integer and fractional parts.\n",
    "float values are represented using the float data type."
   ]
  },
  {
   "cell_type": "code",
   "execution_count": 1,
   "id": "eac2438b-a3e5-434f-a4ea-764d7bfa39d6",
   "metadata": {},
   "outputs": [
    {
     "name": "stdout",
     "output_type": "stream",
     "text": [
      "<class 'float'>\n"
     ]
    }
   ],
   "source": [
    "price=9.99\n",
    "print(type(price))"
   ]
  },
  {
   "cell_type": "code",
   "execution_count": null,
   "id": "f424e504-fc79-45ff-b44f-d74005dcf161",
   "metadata": {},
   "outputs": [],
   "source": [
    "Q9. Create a variable named name and assign your full name to it as a string. How would you print the\n",
    "value of this variable?\n",
    "\n",
    "print the variable is name and get the output is given full name"
   ]
  },
  {
   "cell_type": "code",
   "execution_count": 2,
   "id": "7db2ae01-94de-4dbc-b4a0-a256683059ca",
   "metadata": {},
   "outputs": [
    {
     "name": "stdout",
     "output_type": "stream",
     "text": [
      "Pallavi Laxman Jadhav\n"
     ]
    }
   ],
   "source": [
    "name='Pallavi Laxman Jadhav'\n",
    "print(name)"
   ]
  },
  {
   "cell_type": "code",
   "execution_count": null,
   "id": "c1a30517-1059-42e1-898b-a5278c84d536",
   "metadata": {},
   "outputs": [],
   "source": [
    "Q10. Given the string \"Hello, World!\", extract the substring \"World\"."
   ]
  },
  {
   "cell_type": "code",
   "execution_count": 3,
   "id": "fab4e556-adae-4df5-8796-5ae200497bde",
   "metadata": {},
   "outputs": [
    {
     "name": "stdout",
     "output_type": "stream",
     "text": [
      "World\n"
     ]
    }
   ],
   "source": [
    "string = \"Hello, World!\"\n",
    "substring = string[7:12]\n",
    "print(substring)"
   ]
  },
  {
   "cell_type": "code",
   "execution_count": null,
   "id": "897c95c5-18c3-4a0c-ac9e-f8f442566036",
   "metadata": {},
   "outputs": [],
   "source": [
    "Q11. Create a variable named \"is_student\" and assign it a boolean value indicating whether you are\n",
    "currently a student or not."
   ]
  },
  {
   "cell_type": "code",
   "execution_count": null,
   "id": "f7f12a09-f607-4200-9f97-20dac0191748",
   "metadata": {},
   "outputs": [
    {
     "name": "stdout",
     "output_type": "stream",
     "text": [
      "You are a student.\n"
     ]
    }
   ],
   "source": [
    "is_student = True  \n",
    "\n",
    "if is_student:\n",
    "    print(\"You are a student.\")\n",
    "else:\n",
    "    print(\"You are not a student.\")\n"
   ]
  },
  {
   "cell_type": "code",
   "execution_count": null,
   "id": "fd93f98e-f15b-4714-b190-88997b72d427",
   "metadata": {},
   "outputs": [],
   "source": []
  }
 ],
 "metadata": {
  "kernelspec": {
   "display_name": "Python 3 (ipykernel)",
   "language": "python",
   "name": "python3"
  },
  "language_info": {
   "codemirror_mode": {
    "name": "ipython",
    "version": 3
   },
   "file_extension": ".py",
   "mimetype": "text/x-python",
   "name": "python",
   "nbconvert_exporter": "python",
   "pygments_lexer": "ipython3",
   "version": "3.10.8"
  }
 },
 "nbformat": 4,
 "nbformat_minor": 5
}
